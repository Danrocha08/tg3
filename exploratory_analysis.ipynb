import pandas as pd
import seaborn as sns
import matplotlib.pyplot as plt

# Carregar o dataset imoveis.json
df = pd.read_json('imoveis.json')

# 1. Quantidade de objetos e atributos
print('Quantidade de objetos (linhas):', df.shape[0])
print('Quantidade de atributos (colunas):', df.shape[1])

# 2. Tipos de dados
print('\nTipos de dados:')
print(df.dtypes)

# 3. Estatísticas descritivas
print('\nEstatísticas descritivas (numéricas):')
print(df.describe())

# 4. Boxplots para variáveis numéricas
plt.figure(figsize=(10,6))
sns.boxplot(data=df, x='bairro', y='aluguel')
plt.title('Distribuição do Aluguel por Bairro')
plt.xticks(rotation=45)
plt.show()

plt.figure(figsize=(10,6))
sns.boxplot(data=df, x='bairro', y='area')
plt.title('Distribuição da Área por Bairro')
plt.xticks(rotation=45)
plt.show()

# 5. Gráficos de barras para variáveis categóricas
plt.figure(figsize=(8,5))
sns.countplot(data=df, x='bairro')
plt.title('Quantidade de Imóveis por Bairro')
plt.xticks(rotation=45)
plt.show()
